{
 "cells": [
  {
   "cell_type": "markdown",
   "id": "f10faf7b-c007-411c-bf8c-5ebf594a3778",
   "metadata": {},
   "source": [
    "                                    Manipulating Strings"
   ]
  },
  {
   "cell_type": "markdown",
   "id": "becca1e7-8642-40b5-9c7d-f7a249bb3b23",
   "metadata": {},
   "source": [
    "#Escape characters"
   ]
  },
  {
   "cell_type": "markdown",
   "id": "0eb32587-2143-435b-b666-ca7c1a08905f",
   "metadata": {},
   "source": [
    "An escape character is created by typing a backslash `\\` followed by the character youwant to insert.\n",
    "\n",
    "Ecsacpe characters are: (`\\'`:Single quote, `\\\"`:Double quote,`\\t`:Tab, `\\n`:Newline (line break),  `\\\\`:Backslash, `\\b`:Backspace, `\\ooo`:Octal value, `\\r`:Carriage Return)"
   ]
  },
  {
   "cell_type": "code",
   "execution_count": 22,
   "id": "1c3ed0e7-b194-4da1-8226-ee88bf79bda9",
   "metadata": {},
   "outputs": [
    {
     "name": "stdout",
     "output_type": "stream",
     "text": [
      "Hello there!\n",
      "How are you?\n",
      "I'm doing fine.\n"
     ]
    }
   ],
   "source": [
    "print(\"Hello there!\\nHow are you?\\nI\\'m doing fine.\") #using `\\n` escape character"
   ]
  },
  {
   "cell_type": "markdown",
   "id": "7e67eb91-8d1a-4269-9167-b712b9948252",
   "metadata": {},
   "source": [
    "Raw Strings\n",
    "\n",
    "A raw string entirely ignores all escape characters and prints any backslash that appears in the string.\n",
    "\n",
    "Raw strings are mostly used for regular expression definition"
   ]
  },
  {
   "cell_type": "code",
   "execution_count": 27,
   "id": "01ac3324-e945-4b7e-89b6-7c4c6d8094de",
   "metadata": {},
   "outputs": [
    {
     "name": "stdout",
     "output_type": "stream",
     "text": [
      "Hello there!\\nHow are you?\\nI\\'m doing fine.\n"
     ]
    }
   ],
   "source": [
    " print(r\"Hello there!\\nHow are you?\\nI\\'m doing fine.\")"
   ]
  },
  {
   "cell_type": "markdown",
   "id": "b793c370-7728-4bea-8beb-7402665b59b1",
   "metadata": {},
   "source": [
    "Multiline Strings"
   ]
  },
  {
   "cell_type": "code",
   "execution_count": 67,
   "id": "7d6ec4ff-ef6f-464e-8632-1fa506f3c35e",
   "metadata": {},
   "outputs": [
    {
     "name": "stdout",
     "output_type": "stream",
     "text": [
      "Dear Alice,\n",
      "\n",
      "Eve's cat has been arrested for catnapping,\n",
      "cat burglary, and extortion.\n",
      "\n",
      "Sincerely,\n",
      "Rosy\n"
     ]
    }
   ],
   "source": [
    " >>> print(\n",
    " ... \"\"\"Dear Alice,\n",
    " ...\n",
    " ... Eve's cat has been arrested for catnapping,\n",
    " ... cat burglary, and extortion.\n",
    " ...\n",
    " ... Sincerely,\n",
    " ... Rosy\"\"\"\n",
    " ... )"
   ]
  },
  {
   "cell_type": "markdown",
   "id": "b2f9cacf-6d24-4e36-81d7-12845d30a5a3",
   "metadata": {},
   "source": [
    "Indexing and Slicing strings"
   ]
  },
  {
   "cell_type": "code",
   "execution_count": null,
   "id": "c8d3f61a-4844-470b-84ea-46577c0176cd",
   "metadata": {},
   "outputs": [],
   "source": [
    "H   e   l   l   o       w   o   r   l   d    !\n",
    "0   1   2   3   4   5   6   7   8   9   10   11"
   ]
  },
  {
   "cell_type": "markdown",
   "id": "7d91e490-87c2-4b72-9f76-c1d703a4e6ee",
   "metadata": {},
   "source": [
    "Indexing"
   ]
  },
  {
   "cell_type": "code",
   "execution_count": 77,
   "id": "285c27c8-28b9-4948-8f4b-cb6e0ea6f0b8",
   "metadata": {},
   "outputs": [
    {
     "data": {
      "text/plain": [
       "'Hello world!'"
      ]
     },
     "execution_count": 77,
     "metadata": {},
     "output_type": "execute_result"
    }
   ],
   "source": [
    "spam = 'Hello world!'\n",
    "spam"
   ]
  },
  {
   "cell_type": "code",
   "execution_count": 79,
   "id": "0b655a82-155d-4e05-a766-1fb4c78338f2",
   "metadata": {},
   "outputs": [
    {
     "data": {
      "text/plain": [
       "'H'"
      ]
     },
     "execution_count": 79,
     "metadata": {},
     "output_type": "execute_result"
    }
   ],
   "source": [
    "spam[0]"
   ]
  },
  {
   "cell_type": "code",
   "execution_count": 81,
   "id": "c76995a8-e939-4550-a5e2-7ea3138d317b",
   "metadata": {},
   "outputs": [
    {
     "data": {
      "text/plain": [
       "'o'"
      ]
     },
     "execution_count": 81,
     "metadata": {},
     "output_type": "execute_result"
    }
   ],
   "source": [
    "spam[4]"
   ]
  },
  {
   "cell_type": "code",
   "execution_count": 83,
   "id": "d0987899-396d-4738-8235-c19ac30c3c33",
   "metadata": {},
   "outputs": [
    {
     "data": {
      "text/plain": [
       "'!'"
      ]
     },
     "execution_count": 83,
     "metadata": {},
     "output_type": "execute_result"
    }
   ],
   "source": [
    "spam[-1]"
   ]
  },
  {
   "cell_type": "code",
   "execution_count": 85,
   "id": "0795e9bf-a489-4c22-8b37-dcda77504ebb",
   "metadata": {},
   "outputs": [
    {
     "data": {
      "text/plain": [
       "'Hello'"
      ]
     },
     "execution_count": 85,
     "metadata": {},
     "output_type": "execute_result"
    }
   ],
   "source": [
    "spam[0:5]"
   ]
  },
  {
   "cell_type": "code",
   "execution_count": 87,
   "id": "8e7c4a8f-d186-4137-9fa5-c414fcc39e7e",
   "metadata": {},
   "outputs": [
    {
     "data": {
      "text/plain": [
       "'Hello'"
      ]
     },
     "execution_count": 87,
     "metadata": {},
     "output_type": "execute_result"
    }
   ],
   "source": [
    "spam[:5]"
   ]
  },
  {
   "cell_type": "code",
   "execution_count": 89,
   "id": "628c0fc2-d367-4b90-bfa8-7eb3fc433c2f",
   "metadata": {},
   "outputs": [
    {
     "data": {
      "text/plain": [
       "'world'"
      ]
     },
     "execution_count": 89,
     "metadata": {},
     "output_type": "execute_result"
    }
   ],
   "source": [
    "spam[6:-1]"
   ]
  },
  {
   "cell_type": "code",
   "execution_count": 91,
   "id": "c043d7c0-c533-4134-a312-ea0a9dd3e54e",
   "metadata": {},
   "outputs": [
    {
     "data": {
      "text/plain": [
       "'Hello world'"
      ]
     },
     "execution_count": 91,
     "metadata": {},
     "output_type": "execute_result"
    }
   ],
   "source": [
    "spam[:-1]"
   ]
  },
  {
   "cell_type": "code",
   "execution_count": 93,
   "id": "f4f1dab8-1281-448f-b8c3-7889c0cf06fd",
   "metadata": {},
   "outputs": [
    {
     "data": {
      "text/plain": [
       "'!dlrow olleH'"
      ]
     },
     "execution_count": 93,
     "metadata": {},
     "output_type": "execute_result"
    }
   ],
   "source": [
    "spam[::-1]"
   ]
  },
  {
   "cell_type": "code",
   "execution_count": 97,
   "id": "26e74abb-e40d-4c5b-a95c-769607b2ea5d",
   "metadata": {},
   "outputs": [
    {
     "data": {
      "text/plain": [
       "'Hello'"
      ]
     },
     "execution_count": 97,
     "metadata": {},
     "output_type": "execute_result"
    }
   ],
   "source": [
    "fizz = spam[0:5]\n",
    "fizz"
   ]
  },
  {
   "cell_type": "markdown",
   "id": "73051c55-01b0-4ff4-bd90-95fc31f68d62",
   "metadata": {},
   "source": [
    "The in and not in operators"
   ]
  },
  {
   "cell_type": "code",
   "execution_count": 100,
   "id": "359adc31-68e9-4745-8392-bf06de3b1991",
   "metadata": {},
   "outputs": [
    {
     "data": {
      "text/plain": [
       "True"
      ]
     },
     "execution_count": 100,
     "metadata": {},
     "output_type": "execute_result"
    }
   ],
   "source": [
    "'Hello' in 'Hello World'"
   ]
  },
  {
   "cell_type": "code",
   "execution_count": 102,
   "id": "4d014ecc-5a1e-4587-9739-b2a75f4bc6d1",
   "metadata": {},
   "outputs": [
    {
     "data": {
      "text/plain": [
       "True"
      ]
     },
     "execution_count": 102,
     "metadata": {},
     "output_type": "execute_result"
    }
   ],
   "source": [
    "'Hello' in 'Hello'"
   ]
  },
  {
   "cell_type": "code",
   "execution_count": 104,
   "id": "a01d37d0-b0ff-41ad-bfc1-3986f0ce9b55",
   "metadata": {},
   "outputs": [
    {
     "data": {
      "text/plain": [
       "False"
      ]
     },
     "execution_count": 104,
     "metadata": {},
     "output_type": "execute_result"
    }
   ],
   "source": [
    "'HELLO' in 'Hello World'"
   ]
  },
  {
   "cell_type": "code",
   "execution_count": 106,
   "id": "e29ce639-b98f-4e09-974e-e97ba81805aa",
   "metadata": {},
   "outputs": [
    {
     "data": {
      "text/plain": [
       "True"
      ]
     },
     "execution_count": 106,
     "metadata": {},
     "output_type": "execute_result"
    }
   ],
   "source": [
    "'' in 'spam'"
   ]
  },
  {
   "cell_type": "code",
   "execution_count": 108,
   "id": "6c673555-8e81-45c0-8754-5df41c52be9d",
   "metadata": {},
   "outputs": [
    {
     "data": {
      "text/plain": [
       "False"
      ]
     },
     "execution_count": 108,
     "metadata": {},
     "output_type": "execute_result"
    }
   ],
   "source": [
    "'cats' not in 'cats and dogs'"
   ]
  },
  {
   "cell_type": "markdown",
   "id": "103f501b-e619-455f-814d-f0131c4a5d11",
   "metadata": {},
   "source": [
    " upper(), lower() and title()"
   ]
  },
  {
   "cell_type": "markdown",
   "id": "c269f97b-be16-4151-ae18-ea921bf42dfa",
   "metadata": {},
   "source": [
    " Transforms a string to upper, lower and title case:"
   ]
  },
  {
   "cell_type": "code",
   "execution_count": 112,
   "id": "8048a940-aeb6-49b3-a7f2-1f5a90677311",
   "metadata": {},
   "outputs": [
    {
     "data": {
      "text/plain": [
       "'Hello world!'"
      ]
     },
     "execution_count": 112,
     "metadata": {},
     "output_type": "execute_result"
    }
   ],
   "source": [
    "greet = 'Hello world!'\n",
    "greet"
   ]
  },
  {
   "cell_type": "code",
   "execution_count": 114,
   "id": "37fb6e88-2bf7-4344-a032-1a136654d086",
   "metadata": {},
   "outputs": [
    {
     "data": {
      "text/plain": [
       "'HELLO WORLD!'"
      ]
     },
     "execution_count": 114,
     "metadata": {},
     "output_type": "execute_result"
    }
   ],
   "source": [
    " greet.upper()"
   ]
  },
  {
   "cell_type": "code",
   "execution_count": 116,
   "id": "81d538d6-4dc4-4924-bbc1-0bce7da3dc1d",
   "metadata": {},
   "outputs": [
    {
     "data": {
      "text/plain": [
       "'hello world!'"
      ]
     },
     "execution_count": 116,
     "metadata": {},
     "output_type": "execute_result"
    }
   ],
   "source": [
    " greet.lower()"
   ]
  },
  {
   "cell_type": "code",
   "execution_count": 118,
   "id": "406c3257-e6cd-428d-8e3c-9ff91b9669ac",
   "metadata": {},
   "outputs": [
    {
     "data": {
      "text/plain": [
       "'Hello World!'"
      ]
     },
     "execution_count": 118,
     "metadata": {},
     "output_type": "execute_result"
    }
   ],
   "source": [
    "greet.title()"
   ]
  },
  {
   "cell_type": "markdown",
   "id": "cd0af41f-49b6-4133-b19a-9ec0c122346b",
   "metadata": {},
   "source": [
    "isupper() and islower() methods\n",
    "\n",
    "Returns `True` or `False` after evaluating if a string is in upper or lower case:"
   ]
  },
  {
   "cell_type": "code",
   "execution_count": 126,
   "id": "10860987-4bfe-41dd-8773-892c4dc0d3a5",
   "metadata": {},
   "outputs": [
    {
     "data": {
      "text/plain": [
       "'Hello world!'"
      ]
     },
     "execution_count": 126,
     "metadata": {},
     "output_type": "execute_result"
    }
   ],
   "source": [
    "spam = 'Hello world!'\n",
    "spam"
   ]
  },
  {
   "cell_type": "code",
   "execution_count": 128,
   "id": "363f3c2e-329c-4117-bca3-d0d6848079b9",
   "metadata": {},
   "outputs": [
    {
     "data": {
      "text/plain": [
       "False"
      ]
     },
     "execution_count": 128,
     "metadata": {},
     "output_type": "execute_result"
    }
   ],
   "source": [
    " spam.islower()"
   ]
  },
  {
   "cell_type": "code",
   "execution_count": 130,
   "id": "91eb48de-f96b-4d98-bf98-0e29095746b0",
   "metadata": {},
   "outputs": [
    {
     "data": {
      "text/plain": [
       "False"
      ]
     },
     "execution_count": 130,
     "metadata": {},
     "output_type": "execute_result"
    }
   ],
   "source": [
    "spam.isupper()"
   ]
  },
  {
   "cell_type": "code",
   "execution_count": 132,
   "id": "d5643c27-1cc3-4139-b7bf-0231dd008188",
   "metadata": {},
   "outputs": [
    {
     "data": {
      "text/plain": [
       "True"
      ]
     },
     "execution_count": 132,
     "metadata": {},
     "output_type": "execute_result"
    }
   ],
   "source": [
    "'HELLO'.isupper()"
   ]
  },
  {
   "cell_type": "code",
   "execution_count": 134,
   "id": "3624ee0d-0443-4884-b1f1-30505acc5c54",
   "metadata": {},
   "outputs": [
    {
     "data": {
      "text/plain": [
       "True"
      ]
     },
     "execution_count": 134,
     "metadata": {},
     "output_type": "execute_result"
    }
   ],
   "source": [
    "'abc12345'.islower()"
   ]
  },
  {
   "cell_type": "code",
   "execution_count": 136,
   "id": "5ee0cfcb-8b8f-48df-8fcb-f006411e5c94",
   "metadata": {},
   "outputs": [
    {
     "data": {
      "text/plain": [
       "False"
      ]
     },
     "execution_count": 136,
     "metadata": {},
     "output_type": "execute_result"
    }
   ],
   "source": [
    "'12345'.islower()"
   ]
  },
  {
   "cell_type": "code",
   "execution_count": 138,
   "id": "999cfd55-f3bc-427f-98c9-18712d8bd608",
   "metadata": {},
   "outputs": [
    {
     "data": {
      "text/plain": [
       "False"
      ]
     },
     "execution_count": 138,
     "metadata": {},
     "output_type": "execute_result"
    }
   ],
   "source": [
    "'12345'.isupper()"
   ]
  },
  {
   "cell_type": "markdown",
   "id": "9a09a7a6-1d3b-434d-b6da-9e1d0beb6ad1",
   "metadata": {},
   "source": [
    "The isX string methods"
   ]
  },
  {
   "cell_type": "markdown",
   "id": "bdaaf7be-3c98-4bb2-9bf0-ad2e1ae1e3e6",
   "metadata": {},
   "source": [
    " Method      &    Description\n",
    " \n",
    " isalpha()   returns `True` if the string consists only of letters\n",
    " \n",
    " isalnum()   returns `True` if the string consists only of letters              and numbers.\n",
    " \n",
    " isdecimal() returns `True` if the string consists only of numbers.\n",
    " \n",
    " isspace()   returns `True` if the string consists only of spaces,              tabs, and new-lines.\n",
    " \n",
    " istitle()   returns `True` if the string consists only of words                that begin with an uppercase letter followed by only               lowercase characters."
   ]
  },
  {
   "cell_type": "markdown",
   "id": "4797032b-c83f-4345-bc61-3105ae281e89",
   "metadata": {},
   "source": [
    "startswith() and endswith()"
   ]
  },
  {
   "cell_type": "code",
   "execution_count": 151,
   "id": "fbf7321a-f983-4f72-9eb9-92aaaeeea9db",
   "metadata": {},
   "outputs": [
    {
     "data": {
      "text/plain": [
       "True"
      ]
     },
     "execution_count": 151,
     "metadata": {},
     "output_type": "execute_result"
    }
   ],
   "source": [
    "'Hello world!'.startswith('Hello')"
   ]
  },
  {
   "cell_type": "code",
   "execution_count": 153,
   "id": "92b5b4ca-bdac-440b-b042-04e4b381c212",
   "metadata": {},
   "outputs": [
    {
     "data": {
      "text/plain": [
       "True"
      ]
     },
     "execution_count": 153,
     "metadata": {},
     "output_type": "execute_result"
    }
   ],
   "source": [
    "'Hello world!'.endswith('world!')"
   ]
  },
  {
   "cell_type": "code",
   "execution_count": 155,
   "id": "5b32c324-571d-481a-962d-7d2f7baa6ff3",
   "metadata": {},
   "outputs": [
    {
     "data": {
      "text/plain": [
       "False"
      ]
     },
     "execution_count": 155,
     "metadata": {},
     "output_type": "execute_result"
    }
   ],
   "source": [
    " 'abc123'.startswith('abcdef')"
   ]
  },
  {
   "cell_type": "code",
   "execution_count": 157,
   "id": "e7fb4cc7-a6b6-429b-b1cd-0d7e43262545",
   "metadata": {},
   "outputs": [
    {
     "data": {
      "text/plain": [
       "False"
      ]
     },
     "execution_count": 157,
     "metadata": {},
     "output_type": "execute_result"
    }
   ],
   "source": [
    "'abc123'.endswith('12')"
   ]
  },
  {
   "cell_type": "code",
   "execution_count": 159,
   "id": "ae14f336-539c-475b-af1d-e5de3463e0fd",
   "metadata": {},
   "outputs": [
    {
     "data": {
      "text/plain": [
       "True"
      ]
     },
     "execution_count": 159,
     "metadata": {},
     "output_type": "execute_result"
    }
   ],
   "source": [
    "'Hello world!'.startswith('Hello world!')"
   ]
  },
  {
   "cell_type": "code",
   "execution_count": 161,
   "id": "b8961372-ce2d-440c-8244-14872ab6365a",
   "metadata": {},
   "outputs": [
    {
     "data": {
      "text/plain": [
       "True"
      ]
     },
     "execution_count": 161,
     "metadata": {},
     "output_type": "execute_result"
    }
   ],
   "source": [
    "'Hello world!'.endswith('Hello world!')"
   ]
  },
  {
   "cell_type": "markdown",
   "id": "75133794-86d8-4d38-b8d9-87aa7f3bac72",
   "metadata": {},
   "source": [
    "join() and split()"
   ]
  },
  {
   "cell_type": "markdown",
   "id": "5cd88615-64f7-4f60-92c6-e10bb1079703",
   "metadata": {},
   "source": [
    " join()\n",
    "\n",
    " The `join()`method takes all the items in an iterable, like a list, dictionary, tuple or set,\n",
    " and joins them into a string. You can also specify a separator."
   ]
  },
  {
   "cell_type": "code",
   "execution_count": 171,
   "id": "a878eda9-3e21-4c1a-bff7-19948daa490b",
   "metadata": {},
   "outputs": [
    {
     "data": {
      "text/plain": [
       "'MynameisSimon'"
      ]
     },
     "execution_count": 171,
     "metadata": {},
     "output_type": "execute_result"
    }
   ],
   "source": [
    "''.join(['My', 'name', 'is', 'Simon'])"
   ]
  },
  {
   "cell_type": "code",
   "execution_count": 173,
   "id": "d94da763-f288-444d-8a7a-e4fec08ee6f3",
   "metadata": {},
   "outputs": [
    {
     "data": {
      "text/plain": [
       "'cats, rats, bats'"
      ]
     },
     "execution_count": 173,
     "metadata": {},
     "output_type": "execute_result"
    }
   ],
   "source": [
    "', '.join(['cats', 'rats', 'bats'])"
   ]
  },
  {
   "cell_type": "code",
   "execution_count": 175,
   "id": "7d3e4c71-7429-4dc6-9671-aee63ae5104f",
   "metadata": {},
   "outputs": [
    {
     "data": {
      "text/plain": [
       "'My name is Simon'"
      ]
     },
     "execution_count": 175,
     "metadata": {},
     "output_type": "execute_result"
    }
   ],
   "source": [
    "' '.join(['My', 'name', 'is', 'Simon'])"
   ]
  },
  {
   "cell_type": "code",
   "execution_count": 177,
   "id": "80d7c79d-410c-4ca3-a43c-07c460cd6cd6",
   "metadata": {},
   "outputs": [
    {
     "data": {
      "text/plain": [
       "'MyABCnameABCisABCSimon'"
      ]
     },
     "execution_count": 177,
     "metadata": {},
     "output_type": "execute_result"
    }
   ],
   "source": [
    "'ABC'.join(['My', 'name', 'is', 'Simon'])"
   ]
  },
  {
   "cell_type": "markdown",
   "id": "3cc26d72-3192-4da9-827d-5e36e78ce914",
   "metadata": {},
   "source": [
    " split()"
   ]
  },
  {
   "cell_type": "markdown",
   "id": "88e4676d-777e-41a7-ac75-a9f727424931",
   "metadata": {},
   "source": [
    " The `split()`method splits a `string` into a \n",
    "`list`. By default, it will use whitespace to separate the items, but you can also set another character of choice:"
   ]
  },
  {
   "cell_type": "code",
   "execution_count": 181,
   "id": "c67b6fba-995b-47ef-964f-92506f12e122",
   "metadata": {},
   "outputs": [
    {
     "data": {
      "text/plain": [
       "['My', 'name', 'is', 'Simon']"
      ]
     },
     "execution_count": 181,
     "metadata": {},
     "output_type": "execute_result"
    }
   ],
   "source": [
    "'My name is Simon'.split()"
   ]
  },
  {
   "cell_type": "code",
   "execution_count": 183,
   "id": "168a6a20-5264-4944-9994-056b0ee6ec2d",
   "metadata": {},
   "outputs": [
    {
     "data": {
      "text/plain": [
       "['My', 'name', 'is', 'Simon']"
      ]
     },
     "execution_count": 183,
     "metadata": {},
     "output_type": "execute_result"
    }
   ],
   "source": [
    "'MyABCnameABCisABCSimon'.split('ABC')"
   ]
  },
  {
   "cell_type": "code",
   "execution_count": 185,
   "id": "0ec49778-9ee5-4638-a62c-90ebf7c20312",
   "metadata": {},
   "outputs": [
    {
     "data": {
      "text/plain": [
       "['My na', 'e is Si', 'on']"
      ]
     },
     "execution_count": 185,
     "metadata": {},
     "output_type": "execute_result"
    }
   ],
   "source": [
    "'My name is Simon'.split('m')"
   ]
  },
  {
   "cell_type": "code",
   "execution_count": 187,
   "id": "4b1d4935-9609-4c29-a284-6978fe6f4a3b",
   "metadata": {},
   "outputs": [
    {
     "data": {
      "text/plain": [
       "['My', 'name', 'is', 'Simon']"
      ]
     },
     "execution_count": 187,
     "metadata": {},
     "output_type": "execute_result"
    }
   ],
   "source": [
    "' My  name is  Simon'.split()"
   ]
  },
  {
   "cell_type": "markdown",
   "id": "0090255e-8834-466f-84ff-397f205a59e9",
   "metadata": {},
   "source": [
    "Justifying text with rjust(), ljust() and center()"
   ]
  },
  {
   "cell_type": "code",
   "execution_count": 192,
   "id": "3eac8ab5-c3b8-429e-96cc-1212716bccfa",
   "metadata": {},
   "outputs": [
    {
     "data": {
      "text/plain": [
       "'     Hello'"
      ]
     },
     "execution_count": 192,
     "metadata": {},
     "output_type": "execute_result"
    }
   ],
   "source": [
    "'Hello'.rjust(10)"
   ]
  },
  {
   "cell_type": "code",
   "execution_count": 194,
   "id": "ad72178c-b89d-4407-8733-c1590fc6cab4",
   "metadata": {},
   "outputs": [
    {
     "data": {
      "text/plain": [
       "'               Hello'"
      ]
     },
     "execution_count": 194,
     "metadata": {},
     "output_type": "execute_result"
    }
   ],
   "source": [
    "'Hello'.rjust(20)"
   ]
  },
  {
   "cell_type": "code",
   "execution_count": 196,
   "id": "a9aee8f8-ee80-4c15-bebf-9f78bc4c22df",
   "metadata": {},
   "outputs": [
    {
     "data": {
      "text/plain": [
       "'         Hello World'"
      ]
     },
     "execution_count": 196,
     "metadata": {},
     "output_type": "execute_result"
    }
   ],
   "source": [
    "'Hello World'.rjust(20)"
   ]
  },
  {
   "cell_type": "code",
   "execution_count": 198,
   "id": "70076a50-e3c6-4196-903c-feeae4394662",
   "metadata": {},
   "outputs": [
    {
     "data": {
      "text/plain": [
       "'Hello     '"
      ]
     },
     "execution_count": 198,
     "metadata": {},
     "output_type": "execute_result"
    }
   ],
   "source": [
    " 'Hello'.ljust(10)"
   ]
  },
  {
   "cell_type": "code",
   "execution_count": 200,
   "id": "a7f7b4be-76cb-4dc4-a29c-87bc19136a0d",
   "metadata": {},
   "outputs": [
    {
     "data": {
      "text/plain": [
       "'       Hello        '"
      ]
     },
     "execution_count": 200,
     "metadata": {},
     "output_type": "execute_result"
    }
   ],
   "source": [
    "'Hello'.center(20)"
   ]
  },
  {
   "cell_type": "markdown",
   "id": "6df5a961-ce6b-432d-b7f2-16f82f5f003b",
   "metadata": {},
   "source": [
    "An optional second argument to `rjust()`and `ljust()` will specify a fill character apart\n",
    "from a space character:"
   ]
  },
  {
   "cell_type": "code",
   "execution_count": 203,
   "id": "cccb4080-7c88-4cab-bcc1-986d42027642",
   "metadata": {},
   "outputs": [
    {
     "data": {
      "text/plain": [
       "'***************Hello'"
      ]
     },
     "execution_count": 203,
     "metadata": {},
     "output_type": "execute_result"
    }
   ],
   "source": [
    "'Hello'.rjust(20, '*')"
   ]
  },
  {
   "cell_type": "code",
   "execution_count": 205,
   "id": "4f56ab4f-e081-420a-af76-f29ccf148e95",
   "metadata": {},
   "outputs": [
    {
     "data": {
      "text/plain": [
       "'Hello---------------'"
      ]
     },
     "execution_count": 205,
     "metadata": {},
     "output_type": "execute_result"
    }
   ],
   "source": [
    "'Hello'.ljust(20, '-')"
   ]
  },
  {
   "cell_type": "code",
   "execution_count": 207,
   "id": "6812adf3-aea7-4dbb-a08b-822b9ffcd127",
   "metadata": {},
   "outputs": [
    {
     "data": {
      "text/plain": [
       "'=======Hello========'"
      ]
     },
     "execution_count": 207,
     "metadata": {},
     "output_type": "execute_result"
    }
   ],
   "source": [
    "'Hello'.center(20, '=')"
   ]
  },
  {
   "cell_type": "markdown",
   "id": "f606bb7e-1702-413d-a4de-fa3c71c4e570",
   "metadata": {},
   "source": [
    "Removing whitespace with strip(), rstrip(), and lstrip()"
   ]
  },
  {
   "cell_type": "code",
   "execution_count": 210,
   "id": "f0a1cd1f-12f8-428b-81e4-b48bd2efbdfa",
   "metadata": {},
   "outputs": [
    {
     "data": {
      "text/plain": [
       "'Hello World'"
      ]
     },
     "execution_count": 210,
     "metadata": {},
     "output_type": "execute_result"
    }
   ],
   "source": [
    "spam = '    Hello World     '\n",
    "spam.strip()"
   ]
  },
  {
   "cell_type": "code",
   "execution_count": 212,
   "id": "a4c1015f-67c7-4010-b26f-d926d1788e67",
   "metadata": {},
   "outputs": [
    {
     "data": {
      "text/plain": [
       "'Hello World     '"
      ]
     },
     "execution_count": 212,
     "metadata": {},
     "output_type": "execute_result"
    }
   ],
   "source": [
    "spam.lstrip()"
   ]
  },
  {
   "cell_type": "code",
   "execution_count": 214,
   "id": "e3d9028f-51e0-49cb-8a26-452c2ab35875",
   "metadata": {},
   "outputs": [
    {
     "data": {
      "text/plain": [
       "'    Hello World'"
      ]
     },
     "execution_count": 214,
     "metadata": {},
     "output_type": "execute_result"
    }
   ],
   "source": [
    "spam.rstrip()"
   ]
  },
  {
   "cell_type": "code",
   "execution_count": 216,
   "id": "49e6656a-c7f4-444a-aea8-29c34f43a5c7",
   "metadata": {},
   "outputs": [
    {
     "data": {
      "text/plain": [
       "'BaconSpamEggs'"
      ]
     },
     "execution_count": 216,
     "metadata": {},
     "output_type": "execute_result"
    }
   ],
   "source": [
    "spam = 'SpamSpamBaconSpamEggsSpamSpam'\n",
    "spam.strip('ampS')"
   ]
  },
  {
   "cell_type": "markdown",
   "id": "f30c6892-e3dc-4d45-8c17-247f07e1acb0",
   "metadata": {},
   "source": [
    "The Count Method\n",
    "\n",
    "Counts the number of occurrences of a given character or substring in the string it is applied to. Can be optionally provided start and end index."
   ]
  },
  {
   "cell_type": "code",
   "execution_count": 220,
   "id": "c970dac0-1d28-4e62-834a-11cafea20c95",
   "metadata": {},
   "outputs": [
    {
     "data": {
      "text/plain": [
       "3"
      ]
     },
     "execution_count": 220,
     "metadata": {},
     "output_type": "execute_result"
    }
   ],
   "source": [
    " sentence = 'one sheep two sheep three sheep four'\n",
    " sentence.count('sheep')"
   ]
  },
  {
   "cell_type": "code",
   "execution_count": 222,
   "id": "6aa2336e-8f42-458c-b467-2504dbc65500",
   "metadata": {},
   "outputs": [
    {
     "data": {
      "text/plain": [
       "9"
      ]
     },
     "execution_count": 222,
     "metadata": {},
     "output_type": "execute_result"
    }
   ],
   "source": [
    " sentence.count('e')"
   ]
  },
  {
   "cell_type": "code",
   "execution_count": 226,
   "id": "9ba78d12-abf5-48e4-af58-f6a28d4a778d",
   "metadata": {},
   "outputs": [
    {
     "data": {
      "text/plain": [
       "8"
      ]
     },
     "execution_count": 226,
     "metadata": {},
     "output_type": "execute_result"
    }
   ],
   "source": [
    " sentence.count('e', 6) # returns count of e after 'one sh' i.e 6 chars since beginning of string"
   ]
  },
  {
   "cell_type": "code",
   "execution_count": 228,
   "id": "d4dc01b3-bf85-497f-b765-84e8877a4f44",
   "metadata": {},
   "outputs": [
    {
     "data": {
      "text/plain": [
       "7"
      ]
     },
     "execution_count": 228,
     "metadata": {},
     "output_type": "execute_result"
    }
   ],
   "source": [
    "sentence.count('e', 7)"
   ]
  },
  {
   "cell_type": "markdown",
   "id": "eed9a736-08ca-4228-a9f3-16d44a379513",
   "metadata": {},
   "source": [
    "Replace Method\n",
    "\n",
    "Replaces all occurences of a given substring with another substring. Can be optionally\n",
    "provided a third argument to limit the number of replacements. Returns a new string."
   ]
  },
  {
   "cell_type": "code",
   "execution_count": 231,
   "id": "0122dbbd-5669-4e95-b77b-0043f358c6a1",
   "metadata": {},
   "outputs": [
    {
     "data": {
      "text/plain": [
       "'Hello, planet!'"
      ]
     },
     "execution_count": 231,
     "metadata": {},
     "output_type": "execute_result"
    }
   ],
   "source": [
    "text = \"Hello, world!\"\n",
    "text.replace(\"world\", \"planet\")"
   ]
  },
  {
   "cell_type": "code",
   "execution_count": 233,
   "id": "9f15e810-9820-4f1e-bb1b-fa683298ae70",
   "metadata": {},
   "outputs": [
    {
     "data": {
      "text/plain": [
       "'orange, banana, cherry, apple'"
      ]
     },
     "execution_count": 233,
     "metadata": {},
     "output_type": "execute_result"
    }
   ],
   "source": [
    "fruits = \"apple, banana, cherry, apple\"\n",
    "fruits.replace(\"apple\", \"orange\", 1)"
   ]
  },
  {
   "cell_type": "code",
   "execution_count": 235,
   "id": "2c58fa30-8909-4888-aa57-394e6379202a",
   "metadata": {},
   "outputs": [
    {
     "data": {
      "text/plain": [
       "'I like oranges, Apples are my favorite fruit'"
      ]
     },
     "execution_count": 235,
     "metadata": {},
     "output_type": "execute_result"
    }
   ],
   "source": [
    "sentence = \"I like apples, Apples are my favorite fruit\"\n",
    "sentence.replace(\"apples\", \"oranges\")"
   ]
  },
  {
   "cell_type": "code",
   "execution_count": null,
   "id": "33b1b81d-f6a6-4055-b774-25f3ffa6ed90",
   "metadata": {},
   "outputs": [],
   "source": []
  }
 ],
 "metadata": {
  "kernelspec": {
   "display_name": "Python 3 (ipykernel)",
   "language": "python",
   "name": "python3"
  },
  "language_info": {
   "codemirror_mode": {
    "name": "ipython",
    "version": 3
   },
   "file_extension": ".py",
   "mimetype": "text/x-python",
   "name": "python",
   "nbconvert_exporter": "python",
   "pygments_lexer": "ipython3",
   "version": "3.12.7"
  }
 },
 "nbformat": 4,
 "nbformat_minor": 5
}
