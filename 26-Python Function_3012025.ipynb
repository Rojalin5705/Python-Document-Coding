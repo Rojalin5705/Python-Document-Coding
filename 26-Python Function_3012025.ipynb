{
 "cells": [
  {
   "cell_type": "code",
   "execution_count": 1,
   "id": "2a84b225-14af-4e3c-aa58-368aa635a83f",
   "metadata": {},
   "outputs": [],
   "source": [
    "def greet():\n",
    "    print('hello')\n",
    "    print('good Evening') "
   ]
  },
  {
   "cell_type": "code",
   "execution_count": 2,
   "id": "1217d48e-9715-4455-ab06-d6420bd6b8d1",
   "metadata": {},
   "outputs": [
    {
     "name": "stdout",
     "output_type": "stream",
     "text": [
      "hello\n",
      "good Evening\n"
     ]
    }
   ],
   "source": [
    "def greet():\n",
    "    print('hello')\n",
    "    print('good Evening') \n",
    "greet()"
   ]
  },
  {
   "cell_type": "code",
   "execution_count": 3,
   "id": "5bab0ffd-adc7-4f25-9126-730e43a06b90",
   "metadata": {},
   "outputs": [
    {
     "name": "stdout",
     "output_type": "stream",
     "text": [
      "hello\n",
      "good Evening\n",
      "hello\n",
      "good Evening\n",
      "hello\n",
      "good Evening\n"
     ]
    }
   ],
   "source": [
    "def greet():\n",
    "    print('hello')\n",
    "    print('good Evening') \n",
    "greet()\n",
    "\n",
    "def greet():\n",
    "    print('hello')\n",
    "    print('good Evening') \n",
    "greet()\n",
    "\n",
    "def greet():\n",
    "    print('hello')\n",
    "    print('good Evening') \n",
    "greet()"
   ]
  },
  {
   "cell_type": "code",
   "execution_count": 4,
   "id": "7b8241d2-dc49-4917-a99c-b88a0abc7375",
   "metadata": {},
   "outputs": [
    {
     "name": "stdout",
     "output_type": "stream",
     "text": [
      "hello\n",
      "good Evening\n",
      "hello\n",
      "good Evening\n",
      "hello\n",
      "good Evening\n"
     ]
    }
   ],
   "source": [
    "def greet():\n",
    "    print('hello')\n",
    "    print('good Evening') \n",
    "greet()\n",
    "\n",
    "greet()\n",
    "\n",
    "greet()"
   ]
  },
  {
   "cell_type": "code",
   "execution_count": 5,
   "id": "d4b3d22e-2c65-48f5-931e-462ca876007e",
   "metadata": {},
   "outputs": [
    {
     "name": "stdout",
     "output_type": "stream",
     "text": [
      "26\n"
     ]
    }
   ],
   "source": [
    "# write a python code add 2 number \n",
    "\n",
    "def add(x,y):\n",
    "    c=x+y\n",
    "    print(c)  \n",
    "add(10,16)"
   ]
  },
  {
   "cell_type": "code",
   "execution_count": 6,
   "id": "893242dc-4ebe-44cc-aa16-8d7d6d68772c",
   "metadata": {},
   "outputs": [
    {
     "name": "stdout",
     "output_type": "stream",
     "text": [
      "18\n"
     ]
    }
   ],
   "source": [
    "# write a python code add 2 number \n",
    "\n",
    "def add(x,y,z):\n",
    "    c=x+y+z\n",
    "    print(c)  \n",
    "add(5,6, 7)"
   ]
  },
  {
   "cell_type": "code",
   "execution_count": 7,
   "id": "8291b8cc-0e41-4b03-8ed8-8390b408c4ed",
   "metadata": {},
   "outputs": [
    {
     "name": "stdout",
     "output_type": "stream",
     "text": [
      "hello\n",
      "good evening\n",
      "18\n"
     ]
    }
   ],
   "source": [
    "def greet():\n",
    "    print('hello')\n",
    "    print('good evening') \n",
    "greet()\n",
    "\n",
    "def add(x,y,z):\n",
    "    c=x+y+z\n",
    "    print(c)  \n",
    "add(5,6, 7)"
   ]
  },
  {
   "cell_type": "code",
   "execution_count": 8,
   "id": "8dcc4184-2b72-496a-b520-630b58c4c158",
   "metadata": {},
   "outputs": [
    {
     "name": "stdout",
     "output_type": "stream",
     "text": [
      "hello\n",
      "good evening\n",
      "-1\n"
     ]
    }
   ],
   "source": [
    "#Using Return()\n",
    "def greet():\n",
    "    print('hello')\n",
    "    print('good evening') \n",
    "\n",
    "\n",
    "def add(x,y,z):\n",
    "    c=x+y+z\n",
    "    return c \n",
    "\n",
    "def sub(x,y):\n",
    "    d = x-y\n",
    "    print(d)\n",
    "    \n",
    "greet()\n",
    "add(5,6,7)\n",
    "sub(2,3)"
   ]
  },
  {
   "cell_type": "code",
   "execution_count": 9,
   "id": "c5ff4414-c550-4f9b-996b-57a17c7272ef",
   "metadata": {},
   "outputs": [
    {
     "name": "stdout",
     "output_type": "stream",
     "text": [
      "hello\n",
      "good afternoon\n",
      "12\n"
     ]
    }
   ],
   "source": [
    "def greet():\n",
    "    print('hello')\n",
    "    print('good afternoon')\n",
    "\n",
    "def add(x,y,z):\n",
    "    c=x+y+z\n",
    "    return c\n",
    "\n",
    "greet()\n",
    "\n",
    "result = add(5,4,3)\n",
    "print(result) "
   ]
  },
  {
   "cell_type": "code",
   "execution_count": 10,
   "id": "66b2b325-db82-43a0-9af7-1892df01d64b",
   "metadata": {},
   "outputs": [
    {
     "name": "stdout",
     "output_type": "stream",
     "text": [
      "9 -1 20 0.8 1024\n"
     ]
    }
   ],
   "source": [
    "# what if i want to return 2 values add_sub & i want to return 2 values & function can accept multiple value \n",
    "def add_sub(x,y): \n",
    "    c= x+y\n",
    "    d= x-y\n",
    "    e=x*y\n",
    "    f= x/y\n",
    "    g = x**y\n",
    "    print(c, d,e,f,g)\n",
    "    \n",
    "add_sub(4,5)"
   ]
  },
  {
   "cell_type": "code",
   "execution_count": 11,
   "id": "a859ff23-8df7-42b9-8ced-3486a63b768f",
   "metadata": {},
   "outputs": [
    {
     "name": "stdout",
     "output_type": "stream",
     "text": [
      "9 -1\n"
     ]
    }
   ],
   "source": [
    "# what if i want to return 2 values add_sub & i want to return 2 values & function can accept multiple value\n",
    "def add_sub(x,y): \n",
    "    c= x+y\n",
    "    d= x-y\n",
    "    print(c,d) \n",
    "    \n",
    "add_sub(4,5)"
   ]
  },
  {
   "cell_type": "code",
   "execution_count": 12,
   "id": "278a4e72-2013-47e3-9de8-508142443f7a",
   "metadata": {},
   "outputs": [
    {
     "data": {
      "text/plain": [
       "(9, -1)"
      ]
     },
     "execution_count": 12,
     "metadata": {},
     "output_type": "execute_result"
    }
   ],
   "source": [
    "# what if i want to return 2 values add_sub & i want to return 2 values & function can accept multiple value \n",
    "def add_sub(x,y): \n",
    "    c= x+y\n",
    "    d= x-y\n",
    "    return c,d \n",
    "    \n",
    "add_sub(4,5)"
   ]
  },
  {
   "cell_type": "code",
   "execution_count": 13,
   "id": "11019dfb-e1ff-4d68-8d40-16a0de9fd6c1",
   "metadata": {},
   "outputs": [
    {
     "name": "stdout",
     "output_type": "stream",
     "text": [
      "(9, -1)\n",
      "<class 'tuple'>\n"
     ]
    }
   ],
   "source": [
    "# what if i want to return 2 values add_sub & i want to return 2 values & function can accept multiple value \n",
    "def add_sub(x,y):\n",
    "    c= x+y\n",
    "    d= x-y\n",
    "    return c, d\n",
    "    \n",
    "result = add_sub(4,5)\n",
    "\n",
    "print(result)\n",
    "print(type(result))"
   ]
  },
  {
   "cell_type": "code",
   "execution_count": 14,
   "id": "d5d8586b-18d2-45a4-a061-956a79d157c7",
   "metadata": {},
   "outputs": [
    {
     "name": "stdout",
     "output_type": "stream",
     "text": [
      "9 1\n",
      "<class 'int'>\n",
      "<class 'int'>\n"
     ]
    }
   ],
   "source": [
    "def add_sub(x,y):\n",
    "    c= x+y\n",
    "    d= x-y\n",
    "    return c, d\n",
    "\n",
    "result1,result2 = add_sub(5,4)\n",
    "\n",
    "print(result1,result2)\n",
    "\n",
    "print(type(result1))\n",
    "print(type(result2))"
   ]
  },
  {
   "cell_type": "code",
   "execution_count": 15,
   "id": "52876fd3-a4e6-4666-be81-14c1719abebe",
   "metadata": {},
   "outputs": [
    {
     "name": "stdout",
     "output_type": "stream",
     "text": [
      "10\n"
     ]
    }
   ],
   "source": [
    "#update function take the value from the user\n",
    "def Baleno(x): \n",
    "    x = 10\n",
    "    print(x)\n",
    "    \n",
    "Baleno(8)"
   ]
  },
  {
   "cell_type": "code",
   "execution_count": 16,
   "id": "a64a3829-b523-476a-943f-f508970e0279",
   "metadata": {},
   "outputs": [
    {
     "name": "stdout",
     "output_type": "stream",
     "text": [
      "10\n"
     ]
    }
   ],
   "source": [
    "#update function take the value from the user\n",
    "def Baleno(x): \n",
    "    x = 10\n",
    "    print(x)\n",
    "    \n",
    "Baleno(8)"
   ]
  },
  {
   "cell_type": "code",
   "execution_count": 17,
   "id": "f89dc944-d5e6-42f0-8e3d-c94dbdd95ca2",
   "metadata": {},
   "outputs": [
    {
     "name": "stdout",
     "output_type": "stream",
     "text": [
      "8\n",
      "10\n"
     ]
    }
   ],
   "source": [
    "def Baleno(x): \n",
    "    x = 8\n",
    "    print(x)\n",
    "a = 10   \n",
    "Baleno(a)\n",
    "print(a)"
   ]
  },
  {
   "cell_type": "markdown",
   "id": "af842bb6-be28-4f69-a117-02ae70cddd8e",
   "metadata": {},
   "source": [
    "# formal argument"
   ]
  },
  {
   "cell_type": "code",
   "execution_count": 31,
   "id": "103fb281-88e1-48d6-8f6e-c1a6b79b1c3d",
   "metadata": {},
   "outputs": [
    {
     "name": "stdout",
     "output_type": "stream",
     "text": [
      "11\n"
     ]
    }
   ],
   "source": [
    "class nit:\n",
    "    def add(self, a, b):  # Added 'self'\n",
    "        c = a + b\n",
    "        print(c)\n",
    "\n",
    "obj = nit()  # Create an instance\n",
    "obj.add(5, 6)  # Call the method using the instance"
   ]
  },
  {
   "cell_type": "markdown",
   "id": "f0f6cdc4-cdf9-41fc-bf7b-352b1c08c267",
   "metadata": {},
   "source": [
    "# actual argument\n",
    "- positional argument\n",
    "- keyword argument\n",
    "- variable lenght\n",
    "- defaul "
   ]
  },
  {
   "cell_type": "code",
   "execution_count": 19,
   "id": "71421bfb-fe28-419c-bea1-2717da301fe3",
   "metadata": {},
   "outputs": [
    {
     "name": "stdout",
     "output_type": "stream",
     "text": [
      "nit\n",
      "22\n"
     ]
    }
   ],
   "source": [
    "def person(name,age):\n",
    "    print(name)\n",
    "    print(age)\n",
    "    \n",
    "person('nit',22)"
   ]
  },
  {
   "cell_type": "code",
   "execution_count": 20,
   "id": "8b30197a-ec95-4bef-90ce-19744e2fa9f4",
   "metadata": {},
   "outputs": [
    {
     "name": "stdout",
     "output_type": "stream",
     "text": [
      "22\n",
      "nit\n"
     ]
    }
   ],
   "source": [
    "def person(name,age):\n",
    "    print(name)\n",
    "    print(age)\n",
    "    \n",
    "person(22, 'nit')"
   ]
  },
  {
   "cell_type": "code",
   "execution_count": 21,
   "id": "ce4814f4-3d68-479b-bcb3-95189ea31cc1",
   "metadata": {},
   "outputs": [
    {
     "name": "stdout",
     "output_type": "stream",
     "text": [
      "22\n"
     ]
    },
    {
     "ename": "TypeError",
     "evalue": "unsupported operand type(s) for -: 'str' and 'int'",
     "output_type": "error",
     "traceback": [
      "\u001b[1;31m---------------------------------------------------------------------------\u001b[0m",
      "\u001b[1;31mTypeError\u001b[0m                                 Traceback (most recent call last)",
      "Cell \u001b[1;32mIn[21], line 5\u001b[0m\n\u001b[0;32m      2\u001b[0m     \u001b[38;5;28mprint\u001b[39m(name)\n\u001b[0;32m      3\u001b[0m     \u001b[38;5;28mprint\u001b[39m(age\u001b[38;5;241m-\u001b[39m\u001b[38;5;241m5\u001b[39m)   \n\u001b[1;32m----> 5\u001b[0m person(\u001b[38;5;241m22\u001b[39m, \u001b[38;5;124m'\u001b[39m\u001b[38;5;124mnit\u001b[39m\u001b[38;5;124m'\u001b[39m)\n",
      "Cell \u001b[1;32mIn[21], line 3\u001b[0m, in \u001b[0;36mperson\u001b[1;34m(name, age)\u001b[0m\n\u001b[0;32m      1\u001b[0m \u001b[38;5;28;01mdef\u001b[39;00m \u001b[38;5;21mperson\u001b[39m(name,age):\n\u001b[0;32m      2\u001b[0m     \u001b[38;5;28mprint\u001b[39m(name)\n\u001b[1;32m----> 3\u001b[0m     \u001b[38;5;28mprint\u001b[39m(age\u001b[38;5;241m-\u001b[39m\u001b[38;5;241m5\u001b[39m)\n",
      "\u001b[1;31mTypeError\u001b[0m: unsupported operand type(s) for -: 'str' and 'int'"
     ]
    }
   ],
   "source": [
    "def person(name,age):\n",
    "    print(name)\n",
    "    print(age-5)   \n",
    "    \n",
    "person(22, 'nit')"
   ]
  },
  {
   "cell_type": "code",
   "execution_count": 22,
   "id": "18d93dea-fb5b-474e-a4ed-f3b5c3912015",
   "metadata": {},
   "outputs": [
    {
     "name": "stdout",
     "output_type": "stream",
     "text": [
      "nit\n",
      "17\n"
     ]
    }
   ],
   "source": [
    "# keyword \n",
    "\n",
    "def person(name,age):\n",
    "    print(name)\n",
    "    print(age-5)   \n",
    "    \n",
    "person(age = 22, name = 'nit')"
   ]
  },
  {
   "cell_type": "code",
   "execution_count": 23,
   "id": "1f687654-b807-433f-b6df-9b6f3eb749a9",
   "metadata": {},
   "outputs": [
    {
     "ename": "TypeError",
     "evalue": "person() takes 2 positional arguments but 3 were given",
     "output_type": "error",
     "traceback": [
      "\u001b[1;31m---------------------------------------------------------------------------\u001b[0m",
      "\u001b[1;31mTypeError\u001b[0m                                 Traceback (most recent call last)",
      "Cell \u001b[1;32mIn[23], line 7\u001b[0m\n\u001b[0;32m      4\u001b[0m     \u001b[38;5;28mprint\u001b[39m(name)\n\u001b[0;32m      5\u001b[0m     \u001b[38;5;28mprint\u001b[39m(age)   \n\u001b[1;32m----> 7\u001b[0m person(\u001b[38;5;241m22\u001b[39m, \u001b[38;5;124m'\u001b[39m\u001b[38;5;124mnit\u001b[39m\u001b[38;5;124m'\u001b[39m, \u001b[38;5;241m5\u001b[39m)\n",
      "\u001b[1;31mTypeError\u001b[0m: person() takes 2 positional arguments but 3 were given"
     ]
    }
   ],
   "source": [
    "# keyword \n",
    "\n",
    "def person(name,age ):\n",
    "    print(name)\n",
    "    print(age)   \n",
    "    \n",
    "person(22, 'nit', 5)"
   ]
  },
  {
   "cell_type": "code",
   "execution_count": null,
   "id": "f7fce372-e35d-42de-a1ad-b16a8f8ce664",
   "metadata": {},
   "outputs": [],
   "source": []
  }
 ],
 "metadata": {
  "kernelspec": {
   "display_name": "Python 3 (ipykernel)",
   "language": "python",
   "name": "python3"
  },
  "language_info": {
   "codemirror_mode": {
    "name": "ipython",
    "version": 3
   },
   "file_extension": ".py",
   "mimetype": "text/x-python",
   "name": "python",
   "nbconvert_exporter": "python",
   "pygments_lexer": "ipython3",
   "version": "3.12.7"
  }
 },
 "nbformat": 4,
 "nbformat_minor": 5
}
