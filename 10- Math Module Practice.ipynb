{
 "cells": [
  {
   "cell_type": "markdown",
   "id": "4fa48ed3-7831-4faa-8ca7-f85188eead60",
   "metadata": {},
   "source": [
    "# IMPORT in Math module\n",
    "\n",
    "https://docs.python.org/3/library/math.html"
   ]
  },
  {
   "cell_type": "code",
   "execution_count": 2,
   "id": "6721fafe-f1f3-4943-a04c-14381410b51c",
   "metadata": {},
   "outputs": [
    {
     "ename": "NameError",
     "evalue": "name 'sqrt' is not defined",
     "output_type": "error",
     "traceback": [
      "\u001b[1;31m---------------------------------------------------------------------------\u001b[0m",
      "\u001b[1;31mNameError\u001b[0m                                 Traceback (most recent call last)",
      "Cell \u001b[1;32mIn[2], line 1\u001b[0m\n\u001b[1;32m----> 1\u001b[0m x \u001b[38;5;241m=\u001b[39m sqrt(\u001b[38;5;241m25\u001b[39m)\n",
      "\u001b[1;31mNameError\u001b[0m: name 'sqrt' is not defined"
     ]
    }
   ],
   "source": [
    "x = sqrt(25)"
   ]
  },
  {
   "cell_type": "code",
   "execution_count": 7,
   "id": "b83056aa-ff88-4241-a1e7-862e82e199c3",
   "metadata": {},
   "outputs": [],
   "source": [
    "import math"
   ]
  },
  {
   "cell_type": "code",
   "execution_count": 11,
   "id": "fbbe945f-d81e-4e1f-a16a-3b20aa25a280",
   "metadata": {},
   "outputs": [
    {
     "data": {
      "text/plain": [
       "5.0"
      ]
     },
     "execution_count": 11,
     "metadata": {},
     "output_type": "execute_result"
    }
   ],
   "source": [
    "x = math.sqrt(25)\n",
    "x"
   ]
  },
  {
   "cell_type": "code",
   "execution_count": 13,
   "id": "fb0682e3-12fe-4589-8547-84fbb2bc920f",
   "metadata": {},
   "outputs": [
    {
     "data": {
      "text/plain": [
       "3.872983346207417"
      ]
     },
     "execution_count": 13,
     "metadata": {},
     "output_type": "execute_result"
    }
   ],
   "source": [
    "x1 = math.sqrt(15)\n",
    "x1"
   ]
  },
  {
   "cell_type": "code",
   "execution_count": 15,
   "id": "31f0efcc-2080-42e7-a121-5c6bb06cc86b",
   "metadata": {},
   "outputs": [
    {
     "name": "stdout",
     "output_type": "stream",
     "text": [
      "2\n"
     ]
    }
   ],
   "source": [
    "print(math.floor(2.9))"
   ]
  },
  {
   "cell_type": "code",
   "execution_count": 17,
   "id": "bed45009-6482-4b1e-a361-cbeb45b6a59b",
   "metadata": {},
   "outputs": [
    {
     "name": "stdout",
     "output_type": "stream",
     "text": [
      "3\n"
     ]
    }
   ],
   "source": [
    "print(math.ceil(2.9))"
   ]
  },
  {
   "cell_type": "code",
   "execution_count": 19,
   "id": "ce05fd3c-6fe3-4a55-91c8-7e11f996da96",
   "metadata": {},
   "outputs": [
    {
     "name": "stdout",
     "output_type": "stream",
     "text": [
      "9.0\n"
     ]
    }
   ],
   "source": [
    "print(math.pow(3,2))"
   ]
  },
  {
   "cell_type": "code",
   "execution_count": 21,
   "id": "63d49a03-4777-47b1-a941-f12684cf5405",
   "metadata": {},
   "outputs": [
    {
     "name": "stdout",
     "output_type": "stream",
     "text": [
      "3.141592653589793\n"
     ]
    }
   ],
   "source": [
    "print(math.pi)"
   ]
  },
  {
   "cell_type": "code",
   "execution_count": 23,
   "id": "530d5fbb-8e43-4161-afac-e972bc7104cc",
   "metadata": {},
   "outputs": [
    {
     "name": "stdout",
     "output_type": "stream",
     "text": [
      "2.718281828459045\n"
     ]
    }
   ],
   "source": [
    "print(math.e)"
   ]
  },
  {
   "cell_type": "code",
   "execution_count": 25,
   "id": "71150195-1e8e-4e07-a17a-a4cb13810461",
   "metadata": {},
   "outputs": [
    {
     "data": {
      "text/plain": [
       "3.1622776601683795"
      ]
     },
     "execution_count": 25,
     "metadata": {},
     "output_type": "execute_result"
    }
   ],
   "source": [
    "import math as m\n",
    "m.sqrt(10)"
   ]
  },
  {
   "cell_type": "code",
   "execution_count": 27,
   "id": "81ba1d36-594b-4ad3-a1b3-3fef5a045dde",
   "metadata": {},
   "outputs": [
    {
     "data": {
      "text/plain": [
       "8.0"
      ]
     },
     "execution_count": 27,
     "metadata": {},
     "output_type": "execute_result"
    }
   ],
   "source": [
    "from math import sqrt,pow\n",
    "pow(2,3)"
   ]
  },
  {
   "cell_type": "code",
   "execution_count": 29,
   "id": "e6400dea-8c3e-4029-9fee-2f0130502367",
   "metadata": {},
   "outputs": [
    {
     "data": {
      "text/plain": [
       "8"
      ]
     },
     "execution_count": 29,
     "metadata": {},
     "output_type": "execute_result"
    }
   ],
   "source": [
    "round(pow(2,3))"
   ]
  },
  {
   "cell_type": "markdown",
   "id": "19c5705b-6f04-4675-a99e-711e486cf433",
   "metadata": {},
   "source": [
    "# input function in python"
   ]
  },
  {
   "cell_type": "code",
   "execution_count": 38,
   "id": "b65c10e7-703c-49cb-993b-3c624c8be23f",
   "metadata": {},
   "outputs": [
    {
     "name": "stdin",
     "output_type": "stream",
     "text": [
      " 4\n",
      " 7\n"
     ]
    },
    {
     "name": "stdout",
     "output_type": "stream",
     "text": [
      "47\n"
     ]
    }
   ],
   "source": [
    "x = input()\n",
    "y = input()\n",
    "z = x + y\n",
    "print(z)"
   ]
  },
  {
   "cell_type": "code",
   "execution_count": 36,
   "id": "bf364914-1ff2-437a-bb66-a1ac34580eb2",
   "metadata": {},
   "outputs": [
    {
     "name": "stdin",
     "output_type": "stream",
     "text": [
      "Enter the 1st number 2\n",
      "Enter the 2nd number 3\n"
     ]
    },
    {
     "name": "stdout",
     "output_type": "stream",
     "text": [
      "23\n"
     ]
    }
   ],
   "source": [
    "x1 = input('Enter the 1st number')\n",
    "y1 = input('Enter the 2nd number')\n",
    "z1 = x1 + y1\n",
    "print(z1)"
   ]
  },
  {
   "cell_type": "code",
   "execution_count": 40,
   "id": "bfac2b80-f022-4ee7-bb7d-0554c742aead",
   "metadata": {},
   "outputs": [
    {
     "data": {
      "text/plain": [
       "str"
      ]
     },
     "execution_count": 40,
     "metadata": {},
     "output_type": "execute_result"
    }
   ],
   "source": [
    "type(x1)\n",
    "type(y1)"
   ]
  },
  {
   "cell_type": "code",
   "execution_count": 42,
   "id": "ad592f1b-a56e-40d6-a257-bbbe3bd23276",
   "metadata": {},
   "outputs": [
    {
     "name": "stdin",
     "output_type": "stream",
     "text": [
      "Enter the 1st number 2\n",
      "Enter the 2nd number 8\n"
     ]
    },
    {
     "name": "stdout",
     "output_type": "stream",
     "text": [
      "10\n"
     ]
    }
   ],
   "source": [
    "x1 = input('Enter the 1st number') \n",
    "a1 = int(x1)\n",
    "y1 = input('Enter the 2nd number') \n",
    "b1 = int(y1)\n",
    "z1 = a1 + b1\n",
    "print(z1)"
   ]
  },
  {
   "cell_type": "code",
   "execution_count": 44,
   "id": "9bbba766-ba4c-466b-9d0a-004ed2fa20b5",
   "metadata": {},
   "outputs": [
    {
     "name": "stdin",
     "output_type": "stream",
     "text": [
      "Enter the 1st number 5\n",
      "Enter the 2nd number 8\n"
     ]
    },
    {
     "data": {
      "text/plain": [
       "13"
      ]
     },
     "execution_count": 44,
     "metadata": {},
     "output_type": "execute_result"
    }
   ],
   "source": [
    "x2 = int(input('Enter the 1st number'))\n",
    "y2 = int(input('Enter the 2nd number'))\n",
    "z2 = x2 + y2\n",
    "z2"
   ]
  },
  {
   "cell_type": "code",
   "execution_count": 46,
   "id": "53348bf0-da35-449b-a4bf-5e766d4a9b8a",
   "metadata": {},
   "outputs": [],
   "source": [
    "# lets take input from the user in char format, but we dont have char format in python"
   ]
  },
  {
   "cell_type": "code",
   "execution_count": 48,
   "id": "a71d39c2-39d1-4fa4-aa13-c35067d009e8",
   "metadata": {},
   "outputs": [
    {
     "name": "stdin",
     "output_type": "stream",
     "text": [
      "enter a char Good\n"
     ]
    },
    {
     "name": "stdout",
     "output_type": "stream",
     "text": [
      "Good\n"
     ]
    }
   ],
   "source": [
    "ch = input('enter a char')\n",
    "print(ch)"
   ]
  },
  {
   "cell_type": "code",
   "execution_count": 50,
   "id": "8b831f8c-b750-454f-9d26-2feab3be652b",
   "metadata": {},
   "outputs": [
    {
     "name": "stdout",
     "output_type": "stream",
     "text": [
      "G\n"
     ]
    }
   ],
   "source": [
    "print(ch[0])"
   ]
  },
  {
   "cell_type": "code",
   "execution_count": 52,
   "id": "825d77d3-4d20-466a-84ac-dd9f175a1821",
   "metadata": {},
   "outputs": [
    {
     "name": "stdout",
     "output_type": "stream",
     "text": [
      "o\n"
     ]
    }
   ],
   "source": [
    "print(ch[1])"
   ]
  },
  {
   "cell_type": "code",
   "execution_count": 54,
   "id": "ffbc083a-8c64-4d7e-b1f8-127eb260f3a6",
   "metadata": {},
   "outputs": [
    {
     "name": "stdout",
     "output_type": "stream",
     "text": [
      "d\n"
     ]
    }
   ],
   "source": [
    "print(ch[-1])"
   ]
  },
  {
   "cell_type": "code",
   "execution_count": 56,
   "id": "a337909d-b757-44e3-8365-5a5afc82da60",
   "metadata": {},
   "outputs": [
    {
     "name": "stdin",
     "output_type": "stream",
     "text": [
      "enter a char good\n"
     ]
    },
    {
     "name": "stdout",
     "output_type": "stream",
     "text": [
      "g\n"
     ]
    }
   ],
   "source": [
    "ch = input('enter a char')[0]\n",
    "print(ch)"
   ]
  },
  {
   "cell_type": "code",
   "execution_count": 58,
   "id": "7a846620-d8d5-4edb-a359-22f7ddab11bd",
   "metadata": {},
   "outputs": [
    {
     "name": "stdin",
     "output_type": "stream",
     "text": [
      "enter a char good\n"
     ]
    },
    {
     "name": "stdout",
     "output_type": "stream",
     "text": [
      "oo\n"
     ]
    }
   ],
   "source": [
    "ch = input('enter a char')[1:3]\n",
    "print(ch)"
   ]
  },
  {
   "cell_type": "code",
   "execution_count": 60,
   "id": "b1028bc9-5372-4a9a-bc21-f49a6172eff5",
   "metadata": {},
   "outputs": [
    {
     "name": "stdin",
     "output_type": "stream",
     "text": [
      "enter a char 6+10-3+6\n"
     ]
    },
    {
     "name": "stdout",
     "output_type": "stream",
     "text": [
      "6+10-3+6\n"
     ]
    }
   ],
   "source": [
    "ch = input('enter a char')\n",
    "print(ch)"
   ]
  },
  {
   "cell_type": "markdown",
   "id": "67627580-6016-4d86-b1ae-31c2cb7cd9a1",
   "metadata": {},
   "source": [
    "# EVAL function using in input"
   ]
  },
  {
   "cell_type": "code",
   "execution_count": 64,
   "id": "a2337f9f-3468-4ff7-9636-88a3573452dc",
   "metadata": {},
   "outputs": [
    {
     "name": "stdin",
     "output_type": "stream",
     "text": [
      "enter an expr 6+10-3+6\n"
     ]
    },
    {
     "name": "stdout",
     "output_type": "stream",
     "text": [
      "19\n"
     ]
    }
   ],
   "source": [
    "result = eval(input('enter an expr'))\n",
    "print(result)"
   ]
  },
  {
   "cell_type": "code",
   "execution_count": null,
   "id": "03206809-198c-42fe-81c3-a7c0d57611b1",
   "metadata": {},
   "outputs": [],
   "source": []
  }
 ],
 "metadata": {
  "kernelspec": {
   "display_name": "Python 3 (ipykernel)",
   "language": "python",
   "name": "python3"
  },
  "language_info": {
   "codemirror_mode": {
    "name": "ipython",
    "version": 3
   },
   "file_extension": ".py",
   "mimetype": "text/x-python",
   "name": "python",
   "nbconvert_exporter": "python",
   "pygments_lexer": "ipython3",
   "version": "3.12.7"
  }
 },
 "nbformat": 4,
 "nbformat_minor": 5
}
